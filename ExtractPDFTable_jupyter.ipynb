{
  "cells": [
    {
      "cell_type": "markdown",
      "metadata": {
        "id": "Oja4VzHmBiLJ"
      },
      "source": [
        "# Install requerements"
      ]
    },
    {
      "cell_type": "code",
      "execution_count": 5,
      "metadata": {
        "id": "duzQwEB1BrVZ"
      },
      "outputs": [],
      "source": [
        "import requests\n",
        "from tabula import read_pdf\n",
        "import pandas as pd\n",
        "from pathlib import Path"
      ]
    },
    {
      "cell_type": "markdown",
      "metadata": {
        "id": "3WIbLQBgBvJc"
      },
      "source": [
        "# Download the PDF"
      ]
    },
    {
      "cell_type": "code",
      "execution_count": 6,
      "metadata": {
        "id": "oi0VC5FP5fiW"
      },
      "outputs": [],
      "source": [
        "pdf_path = Path(\"/Users/marco/Library/CloudStorage/OneDrive-UniversitàdegliStudidiMilano/PersDocs/Banking-Financial/RendicontazioneAnnuale/2024/TradeRepublic/TR-Lug-Sept2024.pdf\")\n",
        "pdf_folder = pdf_path.parent"
      ]
    },
    {
      "cell_type": "markdown",
      "metadata": {
        "id": "-8N6x5OxVgVK"
      },
      "source": [
        "view images"
      ]
    },
    {
      "cell_type": "code",
      "execution_count": null,
      "metadata": {
        "colab": {
          "base_uri": "https://localhost:8080/"
        },
        "id": "tlllK41iVlTT",
        "outputId": "17e73334-8aae-4e6a-f918-ab724adc608c"
      },
      "outputs": [],
      "source": [
        "#!pip install pdf2image\n",
        "#!apt-get install poppler-utils"
      ]
    },
    {
      "cell_type": "code",
      "execution_count": null,
      "metadata": {
        "id": "RgDabN0yWlj0"
      },
      "outputs": [],
      "source": [
        "from pdf2image import convert_from_path\n",
        "import numpy as np\n",
        "from matplotlib import pyplot as plt\n",
        "\n",
        "images_of_pdf = convert_from_path(pdf_path, dpi=200)  # Convert PDF to List of PIL Images\n",
        "imgs_path = []\n",
        "\n",
        "for i,page in enumerate(images_of_pdf):\n",
        "    page.save(str(pdf_folder) + \"/page_image_\"+str(i)+\".jpg\")\n",
        "    imgs_path.append(str(pdf_folder) + \"/page_image_\"+str(i)+\".jpg\")\n",
        "\n",
        "readable_images_of_pdf = []  # Create a list for thr for loop to put the images into\n",
        "for PIL_Image in images_of_pdf:\n",
        "    readable_images_of_pdf.append(np.array(PIL_Image))  # Add items to list\n",
        "\n",
        "n_pages = len(images_of_pdf)\n",
        "print(\"n pages exported: \", n_pages)\n",
        "type(readable_images_of_pdf)"
      ]
    },
    {
      "cell_type": "markdown",
      "metadata": {},
      "source": [
        "let's load the images to have a preview of the modifications we will do for tabula"
      ]
    },
    {
      "cell_type": "code",
      "execution_count": 10,
      "metadata": {},
      "outputs": [],
      "source": [
        "#from google.colab.patches import cv2_imshow\n",
        "import cv2\n",
        "\n",
        "#reload the img in cv2\n",
        "imgs= []\n",
        "for i,page in enumerate(imgs_path):\n",
        "    imgs.append(cv2.imread(page, cv2.IMREAD_UNCHANGED))\n"
      ]
    },
    {
      "cell_type": "code",
      "execution_count": null,
      "metadata": {},
      "outputs": [],
      "source": [
        "# Display the image\n",
        "cv2.imshow('Image', imgs[0])\n",
        "# Wait for 1 millisecond\n",
        "cv2.waitKey(1)"
      ]
    },
    {
      "cell_type": "code",
      "execution_count": null,
      "metadata": {},
      "outputs": [],
      "source": [
        "# Close the window\n",
        "cv2.destroyWindow('Image')\n",
        "cv2.waitKey(1) #this will ensure the closure of the event loop and prevent the window to reopen"
      ]
    },
    {
      "cell_type": "code",
      "execution_count": null,
      "metadata": {
        "colab": {
          "base_uri": "https://localhost:8080/"
        },
        "id": "iWoGBeakWwQc",
        "outputId": "334b8ffd-34f9-4a38-be9f-04c499de4dbc"
      },
      "outputs": [],
      "source": [
        "#resize the img to the original values of the pdf. To get them open it with any pdf reader and get those info or look in the file properties. Values are in pts.\n",
        "for i, img in enumerate(imgs):\n",
        "    imgs[i] = cv2.resize(img, (int(595.28), int(841.88)), interpolation=cv2.INTER_LINEAR)\n",
        "\n",
        "# Get the dimensions of the image\n",
        "height, width, channels = img.shape\n",
        "\n",
        "print(f\"Width: {width}, Height: {height}, Channels: {channels}\")"
      ]
    },
    {
      "cell_type": "code",
      "execution_count": 59,
      "metadata": {},
      "outputs": [],
      "source": [
        "# Define the x points for vertical lines\n",
        "x_points = [80, 148, 443, 475, 507, 555]  # Example x points\n",
        "\n",
        "# Define the area to color (top, left, bottom, right)\n",
        "area = [59.9,42.042,790.606,556.959]\n",
        "area_p1 = [262.295,42.042,789.118,552.494]  #the area for the first page\n",
        "area_last = [59.9,42.042,790.606,556.959] #the area for the last page where u have a final piece of text"
      ]
    },
    {
      "cell_type": "code",
      "execution_count": null,
      "metadata": {
        "colab": {
          "base_uri": "https://localhost:8080/",
          "height": 858
        },
        "id": "s28L_dl1ZSow",
        "outputId": "41635583-0a33-4395-b9ad-28b945df5be7"
      },
      "outputs": [],
      "source": [
        "#MODIFY THIS\n",
        "area_preview = area #area_p1 or area\n",
        "img = imgs[2].copy()\n",
        "\n",
        "#reset the image every time\n",
        "# img = cv2.imread(\"/content/page_image_0.jpg\", cv2.IMREAD_UNCHANGED)\n",
        "# img = cv2.resize(img, (int(595.28), int(841.88)), interpolation=cv2.INTER_LINEAR)\n",
        "\n",
        "overlay = np.ones((img.shape[0], img.shape[1], 4), dtype='uint8')\n",
        "\n",
        "# Convert the original image to BGRA (with alpha channel)\n",
        "img_bgra = cv2.cvtColor(img, cv2.COLOR_BGR2BGRA)\n",
        "\n",
        "# Color the defined area\n",
        "cv2.rectangle(overlay, (int(area_preview[1]), int(area_preview[0])), (int(area_preview[3]), int(area_preview[2])), (255, 0, 0, 125), -1)  # Blue filled rectangle\n",
        "\n",
        "# Draw vertical lines\n",
        "for x in x_points:\n",
        "    cv2.line(overlay, (x, 0), (x, img.shape[0]), (0, 255, 0,255), 2)  # Green vertical lines\n",
        "\n",
        "# Blend the overlay with the original image\n",
        "combined = cv2.addWeighted(img_bgra, 0.9, overlay, 0.2, 0)\n",
        "\n",
        "# Display the image\n",
        "cv2.imshow('overlay', combined)\n",
        "cv2.waitKey(1)"
      ]
    },
    {
      "cell_type": "code",
      "execution_count": null,
      "metadata": {},
      "outputs": [],
      "source": [
        "# Close the window\n",
        "cv2.destroyWindow('overlay')\n",
        "cv2.waitKey(1) #this will ensure the closure of the event loop and prevent the window to reopen"
      ]
    },
    {
      "cell_type": "markdown",
      "metadata": {
        "id": "O_yUm18CCRv1"
      },
      "source": [
        "# Extract tables"
      ]
    },
    {
      "cell_type": "code",
      "execution_count": 62,
      "metadata": {
        "id": "t7qmkwjlrYIw"
      },
      "outputs": [],
      "source": [
        "pandas_options = {\n",
        "    'header': None,\n",
        "    'columns' : [\"DATA\", \"TIPO\", \"DESCRIZIONE\", \"IN ENTRATA\",\"IN USCITA\", \"SALDO\"]\n",
        "}"
      ]
    },
    {
      "cell_type": "markdown",
      "metadata": {},
      "source": [
        "Inspect the pdf, if in the last page u don't have any data, execute following cell and change the value of **extract_last_page**"
      ]
    },
    {
      "cell_type": "code",
      "execution_count": 63,
      "metadata": {},
      "outputs": [],
      "source": [
        "extract_last_page = False\n",
        "if not extract_last_page:\n",
        "    n_pages = n_pages-1"
      ]
    },
    {
      "cell_type": "code",
      "execution_count": null,
      "metadata": {
        "colab": {
          "base_uri": "https://localhost:8080/",
          "height": 1000
        },
        "id": "frgh1ylTCWk-",
        "outputId": "3413f8b1-a8a8-4dd9-bc77-2d14ed0e1c17"
      },
      "outputs": [],
      "source": [
        "with open(pdf_path, 'rb') as file:\n",
        "        # extract table from pages\n",
        "        dfs = read_pdf(\n",
        "            file,\n",
        "            pages=\"2-\" + str(n_pages), # pages to extract table from\n",
        "            area=area,\n",
        "            columns=x_points,\n",
        "            #lattice=True,\n",
        "            pandas_options=pandas_options,\n",
        "            stream=True,\n",
        "        )\n",
        "\n",
        "        # extract table in page 1\n",
        "        dfs_1 = read_pdf(\n",
        "            file,\n",
        "            pages=1,\n",
        "            area=area_p1,\n",
        "            columns=x_points,\n",
        "            pandas_options=pandas_options,\n",
        "            stream = True,\n",
        "        )\n",
        "\n",
        "        if extract_last_page:\n",
        "            #extract table in last page\n",
        "            dfs_2 = read_pdf(\n",
        "                file,\n",
        "                pages=n_pages,\n",
        "                area=area_p1,\n",
        "                columns=x_points,\n",
        "                pandas_options=pandas_options,\n",
        "                stream = True,\n",
        "            )\n",
        "dfs[0]\n",
        "#dfs_1[0]\n",
        "#dfs_2[0]"
      ]
    },
    {
      "cell_type": "code",
      "execution_count": null,
      "metadata": {
        "colab": {
          "base_uri": "https://localhost:8080/",
          "height": 622
        },
        "id": "P8NrZDyyt96W",
        "outputId": "a6f3a113-7bc2-4f0e-8689-54ae1a532909"
      },
      "outputs": [],
      "source": [
        "dfs.extend(dfs_1)\n",
        "if extract_last_page:\n",
        "    dfs.extend(dfs_2)\n",
        "\n",
        "# concat all dfs to get one table\n",
        "data = pd.concat(\n",
        "    dfs,\n",
        "    axis=0,\n",
        "    ignore_index=True\n",
        ")\n",
        "data"
      ]
    },
    {
      "cell_type": "code",
      "execution_count": null,
      "metadata": {
        "colab": {
          "base_uri": "https://localhost:8080/",
          "height": 601
        },
        "id": "MLqIxi9PvSEh",
        "outputId": "a6e1115a-be33-4a5f-f14f-80fa4a95bbbf"
      },
      "outputs": [],
      "source": [
        "# Drop rows if they contain all column names\n",
        "try:\n",
        "    data = data.drop(data[data.apply(lambda row: all(item in row.values for item in pandas_options['columns']), axis=1)].index)\n",
        "    # Reset the index\n",
        "    data = data.reset_index(drop=True)\n",
        "except KeyError:\n",
        "    (\"everything ok\")\n",
        "data\n"
      ]
    },
    {
      "cell_type": "code",
      "execution_count": null,
      "metadata": {
        "colab": {
          "base_uri": "https://localhost:8080/",
          "height": 299
        },
        "id": "F-xA7FPbsA_L",
        "outputId": "73dbc502-b358-490d-885d-8c8e369fa79a"
      },
      "outputs": [],
      "source": [
        "# Group the DataFrame by every 3 rows as tabula didn't recognize multiline text in the cells. U should inspect this by urself\n",
        "grouped = data.groupby(data.index // 3)\n",
        "\n",
        "# Aggregate the text within each group\n",
        "result = grouped.agg(lambda x: ''.join(x.fillna('')))\n",
        "\n",
        "# Reset the index\n",
        "result = result.reset_index(drop=True)\n",
        "\n",
        "result"
      ]
    },
    {
      "cell_type": "markdown",
      "metadata": {
        "id": "s8Qvm-eRC9g4"
      },
      "source": [
        "# Export data to CSV"
      ]
    },
    {
      "cell_type": "code",
      "execution_count": 69,
      "metadata": {
        "id": "fiyY17wIyhCk"
      },
      "outputs": [],
      "source": [
        "result.to_csv(str(pdf_folder) + \"/\" + pdf_path.stem + \"output.csv\", index=False)"
      ]
    },
    {
      "cell_type": "code",
      "execution_count": null,
      "metadata": {},
      "outputs": [],
      "source": []
    }
  ],
  "metadata": {
    "colab": {
      "collapsed_sections": [
        "Oja4VzHmBiLJ"
      ],
      "provenance": []
    },
    "kernelspec": {
      "display_name": "docpdf_env",
      "language": "python",
      "name": "python3"
    },
    "language_info": {
      "codemirror_mode": {
        "name": "ipython",
        "version": 3
      },
      "file_extension": ".py",
      "mimetype": "text/x-python",
      "name": "python",
      "nbconvert_exporter": "python",
      "pygments_lexer": "ipython3",
      "version": "3.12.5"
    }
  },
  "nbformat": 4,
  "nbformat_minor": 0
}
