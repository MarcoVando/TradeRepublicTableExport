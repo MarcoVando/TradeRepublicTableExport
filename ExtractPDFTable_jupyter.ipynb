{
  "cells": [
    {
      "cell_type": "markdown",
      "metadata": {
        "id": "Oja4VzHmBiLJ"
      },
      "source": [
        "# Install requerements"
      ]
    },
    {
      "cell_type": "code",
      "execution_count": 1,
      "metadata": {
        "id": "duzQwEB1BrVZ"
      },
      "outputs": [],
      "source": [
        "import requests\n",
        "from tabula import read_pdf\n",
        "import pandas as pd\n",
        "from pathlib import Path"
      ]
    },
    {
      "cell_type": "markdown",
      "metadata": {
        "id": "3WIbLQBgBvJc"
      },
      "source": [
        "# Download the PDF"
      ]
    },
    {
      "cell_type": "code",
      "execution_count": 132,
      "metadata": {
        "id": "oi0VC5FP5fiW"
      },
      "outputs": [],
      "source": [
        "pdf_path = Path(\"/Users/marco/Library/CloudStorage/OneDrive-UniversitàdegliStudidiMilano/PersDocs/Banking-Financial/RendicontazioneAnnuale/2024/TradeRepublic/TR-Spet23-Lug24.pdf\")\n",
        "pdf_folder = pdf_path.parent"
      ]
    },
    {
      "cell_type": "markdown",
      "metadata": {
        "id": "-8N6x5OxVgVK"
      },
      "source": [
        "view images"
      ]
    },
    {
      "cell_type": "code",
      "execution_count": 133,
      "metadata": {
        "id": "RgDabN0yWlj0"
      },
      "outputs": [
        {
          "name": "stdout",
          "output_type": "stream",
          "text": [
            "n pages exported:  6\n"
          ]
        },
        {
          "data": {
            "text/plain": [
              "list"
            ]
          },
          "execution_count": 133,
          "metadata": {},
          "output_type": "execute_result"
        }
      ],
      "source": [
        "from pdf2image import convert_from_path\n",
        "import numpy as np\n",
        "from matplotlib import pyplot as plt\n",
        "\n",
        "images_of_pdf = convert_from_path(pdf_path, dpi=200)  # Convert PDF to List of PIL Images\n",
        "imgs_path = []\n",
        "\n",
        "for i,page in enumerate(images_of_pdf):\n",
        "    #page.save(str(pdf_folder) + \"/page_image_\"+str(i)+\".jpg\")\n",
        "    imgs_path.append(str(pdf_folder) + \"/page_image_\"+str(i)+\".jpg\")\n",
        "\n",
        "readable_images_of_pdf = []  # Create a list for thr for loop to put the images into\n",
        "for PIL_Image in images_of_pdf:\n",
        "    readable_images_of_pdf.append(np.array(PIL_Image))  # Add items to list\n",
        "\n",
        "n_pages = len(images_of_pdf)\n",
        "print(\"n pages exported: \", n_pages)\n",
        "type(readable_images_of_pdf)"
      ]
    },
    {
      "cell_type": "markdown",
      "metadata": {},
      "source": [
        "let's load the images to have a preview of the modifications we will do for tabula"
      ]
    },
    {
      "cell_type": "code",
      "execution_count": 134,
      "metadata": {},
      "outputs": [],
      "source": [
        "#from google.colab.patches import cv2_imshow\n",
        "import cv2\n",
        "\n",
        "#reload the img in cv2\n",
        "imgs= []\n",
        "for i,page in enumerate(imgs_path):\n",
        "    imgs.append(cv2.imread(page, cv2.IMREAD_UNCHANGED))\n"
      ]
    },
    {
      "cell_type": "code",
      "execution_count": 136,
      "metadata": {},
      "outputs": [
        {
          "data": {
            "text/plain": [
              "-1"
            ]
          },
          "execution_count": 136,
          "metadata": {},
          "output_type": "execute_result"
        }
      ],
      "source": [
        "# Display the image\n",
        "cv2.imshow('Image', imgs[0])\n",
        "# Wait for 1 millisecond\n",
        "cv2.waitKey(1)"
      ]
    },
    {
      "cell_type": "code",
      "execution_count": 137,
      "metadata": {},
      "outputs": [
        {
          "data": {
            "text/plain": [
              "-1"
            ]
          },
          "execution_count": 137,
          "metadata": {},
          "output_type": "execute_result"
        }
      ],
      "source": [
        "# Close the window\n",
        "cv2.destroyWindow('Image')\n",
        "cv2.waitKey(1) #this will ensure the closure of the event loop and prevent the window to reopen"
      ]
    },
    {
      "cell_type": "code",
      "execution_count": 139,
      "metadata": {
        "colab": {
          "base_uri": "https://localhost:8080/"
        },
        "id": "iWoGBeakWwQc",
        "outputId": "334b8ffd-34f9-4a38-be9f-04c499de4dbc"
      },
      "outputs": [
        {
          "name": "stdout",
          "output_type": "stream",
          "text": [
            "Width: 595, Height: 841, Channels: 3\n"
          ]
        }
      ],
      "source": [
        "#resize the img to the original values of the pdf. To get them open it with any pdf reader and get those info or look in the file properties. Values are in pts.\n",
        "for i, img in enumerate(imgs):\n",
        "    imgs[i] = cv2.resize(img, (int(595.28), int(841.88)), interpolation=cv2.INTER_LINEAR)\n",
        "\n",
        "# Get the dimensions of the image\n",
        "height, width, channels = img.shape\n",
        "\n",
        "print(f\"Width: {width}, Height: {height}, Channels: {channels}\")"
      ]
    },
    {
      "cell_type": "code",
      "execution_count": 174,
      "metadata": {},
      "outputs": [],
      "source": [
        "# Define the x points for vertical lines\n",
        "x_points = [80, 148, 435, 475, 507, 555]  # Example x points\n",
        "\n",
        "# Define the area to color (top, left, bottom, right)\n",
        "area = [82,42.042,790.606,556.959]\n",
        "area_p1 = [280.295,42.042,789.118,552.494]  #the area for the first page\n",
        "area_last = [82,42.042,790.606,556.959] #the area for the last page where u have a final piece of text"
      ]
    },
    {
      "cell_type": "code",
      "execution_count": 179,
      "metadata": {
        "colab": {
          "base_uri": "https://localhost:8080/",
          "height": 858
        },
        "id": "s28L_dl1ZSow",
        "outputId": "41635583-0a33-4395-b9ad-28b945df5be7"
      },
      "outputs": [
        {
          "data": {
            "text/plain": [
              "-1"
            ]
          },
          "execution_count": 179,
          "metadata": {},
          "output_type": "execute_result"
        }
      ],
      "source": [
        "#MODIFY THIS\n",
        "page_number = 3\n",
        "\n",
        "#define the right area\n",
        "if page_number == 0:\n",
        "    area_preview = area_p1\n",
        "elif page_number == n_pages-1:\n",
        "    area_preview = area_last\n",
        "else:\n",
        "    area_preview = area\n",
        "\n",
        "#reset the image every time\n",
        "# img = cv2.imread(\"/content/page_image_0.jpg\", cv2.IMREAD_UNCHANGED)\n",
        "# img = cv2.resize(img, (int(595.28), int(841.88)), interpolation=cv2.INTER_LINEAR)\n",
        "img = imgs[page_number].copy()\n",
        "\n",
        "overlay = np.ones((img.shape[0], img.shape[1], 4), dtype='uint8')\n",
        "\n",
        "# Convert the original image to BGRA (with alpha channel)\n",
        "img_bgra = cv2.cvtColor(img, cv2.COLOR_BGR2BGRA)\n",
        "\n",
        "# Color the defined area\n",
        "cv2.rectangle(overlay, (int(area_preview[1]), int(area_preview[0])), (int(area_preview[3]), int(area_preview[2])), (255, 0, 0, 125), -1)  # Blue filled rectangle\n",
        "\n",
        "# Draw vertical lines\n",
        "for x in x_points:\n",
        "    cv2.line(overlay, (x, 0), (x, img.shape[0]), (0, 255, 0,255), 2)  # Green vertical lines\n",
        "\n",
        "# Blend the overlay with the original image\n",
        "combined = cv2.addWeighted(img_bgra, 0.9, overlay, 0.2, 0)\n",
        "\n",
        "# Display the image\n",
        "cv2.imshow('overlay', combined)\n",
        "cv2.waitKey(1)"
      ]
    },
    {
      "cell_type": "code",
      "execution_count": 180,
      "metadata": {},
      "outputs": [
        {
          "data": {
            "text/plain": [
              "-1"
            ]
          },
          "execution_count": 180,
          "metadata": {},
          "output_type": "execute_result"
        }
      ],
      "source": [
        "# Close the window\n",
        "cv2.destroyWindow('overlay')\n",
        "cv2.waitKey(1) #this will ensure the closure of the event loop and prevent the window to reopen"
      ]
    },
    {
      "cell_type": "markdown",
      "metadata": {
        "id": "O_yUm18CCRv1"
      },
      "source": [
        "# Extract tables"
      ]
    },
    {
      "cell_type": "code",
      "execution_count": 181,
      "metadata": {
        "id": "t7qmkwjlrYIw"
      },
      "outputs": [],
      "source": [
        "pandas_options = {\n",
        "    'header': None,\n",
        "    'columns' : [\"DATA\", \"TIPO\", \"DESCRIZIONE\", \"IN ENTRATA\",\"IN USCITA\", \"SALDO\"]\n",
        "}"
      ]
    },
    {
      "cell_type": "markdown",
      "metadata": {},
      "source": [
        "Inspect the pdf, if in the last page u don't have any data, execute following cell and change the value of **extract_last_page**"
      ]
    },
    {
      "cell_type": "code",
      "execution_count": 182,
      "metadata": {},
      "outputs": [],
      "source": [
        "extract_last_page = False\n",
        "if not extract_last_page:\n",
        "    n_pages = n_pages-1"
      ]
    },
    {
      "cell_type": "code",
      "execution_count": 183,
      "metadata": {
        "colab": {
          "base_uri": "https://localhost:8080/",
          "height": 1000
        },
        "id": "frgh1ylTCWk-",
        "outputId": "3413f8b1-a8a8-4dd9-bc77-2d14ed0e1c17"
      },
      "outputs": [
        {
          "name": "stderr",
          "output_type": "stream",
          "text": [
            "/Users/marco/miniconda3/envs/docpdf_env/lib/python3.12/site-packages/tabula/io.py:1054: FutureWarning: errors='ignore' is deprecated and will raise in a future version. Use to_numeric without passing `errors` and catch exceptions explicitly instead\n",
            "  df[c] = pd.to_numeric(df[c], errors=\"ignore\")\n"
          ]
        },
        {
          "name": "stdout",
          "output_type": "stream",
          "text": [
            "3\n"
          ]
        },
        {
          "name": "stderr",
          "output_type": "stream",
          "text": [
            "/Users/marco/miniconda3/envs/docpdf_env/lib/python3.12/site-packages/tabula/io.py:1054: FutureWarning: errors='ignore' is deprecated and will raise in a future version. Use to_numeric without passing `errors` and catch exceptions explicitly instead\n",
            "  df[c] = pd.to_numeric(df[c], errors=\"ignore\")\n"
          ]
        },
        {
          "data": {
            "text/html": [
              "<div>\n",
              "<style scoped>\n",
              "    .dataframe tbody tr th:only-of-type {\n",
              "        vertical-align: middle;\n",
              "    }\n",
              "\n",
              "    .dataframe tbody tr th {\n",
              "        vertical-align: top;\n",
              "    }\n",
              "\n",
              "    .dataframe thead th {\n",
              "        text-align: right;\n",
              "    }\n",
              "</style>\n",
              "<table border=\"1\" class=\"dataframe\">\n",
              "  <thead>\n",
              "    <tr style=\"text-align: right;\">\n",
              "      <th></th>\n",
              "      <th>DATA</th>\n",
              "      <th>TIPO</th>\n",
              "      <th>DESCRIZIONE</th>\n",
              "      <th>IN ENTRATA</th>\n",
              "      <th>IN USCITA</th>\n",
              "      <th>SALDO</th>\n",
              "    </tr>\n",
              "  </thead>\n",
              "  <tbody>\n",
              "    <tr>\n",
              "      <th>0</th>\n",
              "      <td>25 mag</td>\n",
              "      <td>Transazione con</td>\n",
              "      <td>NaN</td>\n",
              "      <td>NaN</td>\n",
              "      <td>NaN</td>\n",
              "      <td>NaN</td>\n",
              "    </tr>\n",
              "    <tr>\n",
              "      <th>1</th>\n",
              "      <td>NaN</td>\n",
              "      <td>NaN</td>\n",
              "      <td>TooGoodT cw9t43xst9130</td>\n",
              "      <td>NaN</td>\n",
              "      <td>3,99 €</td>\n",
              "      <td>4.321,02 €</td>\n",
              "    </tr>\n",
              "    <tr>\n",
              "      <th>2</th>\n",
              "      <td>2024</td>\n",
              "      <td>carta</td>\n",
              "      <td>NaN</td>\n",
              "      <td>NaN</td>\n",
              "      <td>NaN</td>\n",
              "      <td>NaN</td>\n",
              "    </tr>\n",
              "    <tr>\n",
              "      <th>3</th>\n",
              "      <td>26 mag</td>\n",
              "      <td>Transazione con</td>\n",
              "      <td>NaN</td>\n",
              "      <td>NaN</td>\n",
              "      <td>NaN</td>\n",
              "      <td>NaN</td>\n",
              "    </tr>\n",
              "    <tr>\n",
              "      <th>4</th>\n",
              "      <td>NaN</td>\n",
              "      <td>NaN</td>\n",
              "      <td>WWW.SOC.CHIM.IT VBV</td>\n",
              "      <td>NaN</td>\n",
              "      <td>60,00 €</td>\n",
              "      <td>4.261,02 €</td>\n",
              "    </tr>\n",
              "    <tr>\n",
              "      <th>...</th>\n",
              "      <td>...</td>\n",
              "      <td>...</td>\n",
              "      <td>...</td>\n",
              "      <td>...</td>\n",
              "      <td>...</td>\n",
              "      <td>...</td>\n",
              "    </tr>\n",
              "    <tr>\n",
              "      <th>61</th>\n",
              "      <td>NaN</td>\n",
              "      <td>NaN</td>\n",
              "      <td>SUSHI HIRO SAS DI XIANG</td>\n",
              "      <td>NaN</td>\n",
              "      <td>63,80 €</td>\n",
              "      <td>3.170,94 €</td>\n",
              "    </tr>\n",
              "    <tr>\n",
              "      <th>62</th>\n",
              "      <td>2024</td>\n",
              "      <td>carta</td>\n",
              "      <td>NaN</td>\n",
              "      <td>NaN</td>\n",
              "      <td>NaN</td>\n",
              "      <td>NaN</td>\n",
              "    </tr>\n",
              "    <tr>\n",
              "      <th>63</th>\n",
              "      <td>10 giu</td>\n",
              "      <td>Transazione con</td>\n",
              "      <td>NaN</td>\n",
              "      <td>NaN</td>\n",
              "      <td>NaN</td>\n",
              "      <td>NaN</td>\n",
              "    </tr>\n",
              "    <tr>\n",
              "      <th>64</th>\n",
              "      <td>NaN</td>\n",
              "      <td>NaN</td>\n",
              "      <td>TIGROS 2</td>\n",
              "      <td>NaN</td>\n",
              "      <td>86,56 €</td>\n",
              "      <td>3.084,38 €</td>\n",
              "    </tr>\n",
              "    <tr>\n",
              "      <th>65</th>\n",
              "      <td>2024</td>\n",
              "      <td>carta</td>\n",
              "      <td>NaN</td>\n",
              "      <td>NaN</td>\n",
              "      <td>NaN</td>\n",
              "      <td>NaN</td>\n",
              "    </tr>\n",
              "  </tbody>\n",
              "</table>\n",
              "<p>66 rows × 6 columns</p>\n",
              "</div>"
            ],
            "text/plain": [
              "      DATA             TIPO              DESCRIZIONE IN ENTRATA IN USCITA  \\\n",
              "0   25 mag  Transazione con                      NaN        NaN       NaN   \n",
              "1      NaN              NaN   TooGoodT cw9t43xst9130        NaN    3,99 €   \n",
              "2     2024            carta                      NaN        NaN       NaN   \n",
              "3   26 mag  Transazione con                      NaN        NaN       NaN   \n",
              "4      NaN              NaN      WWW.SOC.CHIM.IT VBV        NaN   60,00 €   \n",
              "..     ...              ...                      ...        ...       ...   \n",
              "61     NaN              NaN  SUSHI HIRO SAS DI XIANG        NaN   63,80 €   \n",
              "62    2024            carta                      NaN        NaN       NaN   \n",
              "63  10 giu  Transazione con                      NaN        NaN       NaN   \n",
              "64     NaN              NaN                 TIGROS 2        NaN   86,56 €   \n",
              "65    2024            carta                      NaN        NaN       NaN   \n",
              "\n",
              "         SALDO  \n",
              "0          NaN  \n",
              "1   4.321,02 €  \n",
              "2          NaN  \n",
              "3          NaN  \n",
              "4   4.261,02 €  \n",
              "..         ...  \n",
              "61  3.170,94 €  \n",
              "62         NaN  \n",
              "63         NaN  \n",
              "64  3.084,38 €  \n",
              "65         NaN  \n",
              "\n",
              "[66 rows x 6 columns]"
            ]
          },
          "execution_count": 183,
          "metadata": {},
          "output_type": "execute_result"
        }
      ],
      "source": [
        "with open(pdf_path, 'rb') as file:\n",
        "        # extract table from pages\n",
        "        dfs = read_pdf(\n",
        "            file,\n",
        "            pages=\"2-\" + str(n_pages), # pages to extract table from\n",
        "            area=area,\n",
        "            columns=x_points,\n",
        "            #lattice=True,\n",
        "            pandas_options=pandas_options,\n",
        "            stream=True,\n",
        "        )\n",
        "\n",
        "        # extract table in page 1\n",
        "        dfs_1 = read_pdf(\n",
        "            file,\n",
        "            pages=\"1\",\n",
        "            area=area_p1,\n",
        "            columns=x_points,\n",
        "            pandas_options=pandas_options,\n",
        "            stream = True,\n",
        "        )\n",
        "\n",
        "        if extract_last_page:\n",
        "            #extract table in last page\n",
        "            dfs_2 = read_pdf(\n",
        "                file,\n",
        "                pages=str(n_pages),\n",
        "                area=area_last,\n",
        "                columns=x_points,\n",
        "                pandas_options=pandas_options,\n",
        "                stream = True,\n",
        "            )\n",
        "print(len(dfs))\n",
        "dfs[0]\n",
        "#dfs_1[0]\n",
        "#dfs_2[0]"
      ]
    },
    {
      "cell_type": "markdown",
      "metadata": {},
      "source": [
        "let's make a single df object with all the exported tables"
      ]
    },
    {
      "cell_type": "code",
      "execution_count": 203,
      "metadata": {},
      "outputs": [
        {
          "data": {
            "text/html": [
              "<div>\n",
              "<style scoped>\n",
              "    .dataframe tbody tr th:only-of-type {\n",
              "        vertical-align: middle;\n",
              "    }\n",
              "\n",
              "    .dataframe tbody tr th {\n",
              "        vertical-align: top;\n",
              "    }\n",
              "\n",
              "    .dataframe thead th {\n",
              "        text-align: right;\n",
              "    }\n",
              "</style>\n",
              "<table border=\"1\" class=\"dataframe\">\n",
              "  <thead>\n",
              "    <tr style=\"text-align: right;\">\n",
              "      <th></th>\n",
              "      <th>DATA</th>\n",
              "      <th>TIPO</th>\n",
              "      <th>DESCRIZIONE</th>\n",
              "      <th>IN ENTRATA</th>\n",
              "      <th>IN USCITA</th>\n",
              "      <th>SALDO</th>\n",
              "    </tr>\n",
              "  </thead>\n",
              "  <tbody>\n",
              "    <tr>\n",
              "      <th>0</th>\n",
              "      <td>25 mag</td>\n",
              "      <td>Transazione con</td>\n",
              "      <td>NaN</td>\n",
              "      <td>NaN</td>\n",
              "      <td>NaN</td>\n",
              "      <td>NaN</td>\n",
              "    </tr>\n",
              "    <tr>\n",
              "      <th>1</th>\n",
              "      <td>NaN</td>\n",
              "      <td>NaN</td>\n",
              "      <td>TooGoodT cw9t43xst9130</td>\n",
              "      <td>NaN</td>\n",
              "      <td>3,99 €</td>\n",
              "      <td>4.321,02 €</td>\n",
              "    </tr>\n",
              "    <tr>\n",
              "      <th>2</th>\n",
              "      <td>2024</td>\n",
              "      <td>carta</td>\n",
              "      <td>NaN</td>\n",
              "      <td>NaN</td>\n",
              "      <td>NaN</td>\n",
              "      <td>NaN</td>\n",
              "    </tr>\n",
              "    <tr>\n",
              "      <th>3</th>\n",
              "      <td>26 mag</td>\n",
              "      <td>Transazione con</td>\n",
              "      <td>NaN</td>\n",
              "      <td>NaN</td>\n",
              "      <td>NaN</td>\n",
              "      <td>NaN</td>\n",
              "    </tr>\n",
              "    <tr>\n",
              "      <th>4</th>\n",
              "      <td>NaN</td>\n",
              "      <td>NaN</td>\n",
              "      <td>WWW.SOC.CHIM.IT VBV</td>\n",
              "      <td>NaN</td>\n",
              "      <td>60,00 €</td>\n",
              "      <td>4.261,02 €</td>\n",
              "    </tr>\n",
              "    <tr>\n",
              "      <th>...</th>\n",
              "      <td>...</td>\n",
              "      <td>...</td>\n",
              "      <td>...</td>\n",
              "      <td>...</td>\n",
              "      <td>...</td>\n",
              "      <td>...</td>\n",
              "    </tr>\n",
              "    <tr>\n",
              "      <th>241</th>\n",
              "      <td>NaN</td>\n",
              "      <td>NaN</td>\n",
              "      <td>TIGROS 17</td>\n",
              "      <td>NaN</td>\n",
              "      <td>5,31 €</td>\n",
              "      <td>4.810,01 €</td>\n",
              "    </tr>\n",
              "    <tr>\n",
              "      <th>242</th>\n",
              "      <td>2024</td>\n",
              "      <td>carta</td>\n",
              "      <td>NaN</td>\n",
              "      <td>NaN</td>\n",
              "      <td>NaN</td>\n",
              "      <td>NaN</td>\n",
              "    </tr>\n",
              "    <tr>\n",
              "      <th>243</th>\n",
              "      <td>25 mag</td>\n",
              "      <td>Transazione con</td>\n",
              "      <td>NaN</td>\n",
              "      <td>NaN</td>\n",
              "      <td>NaN</td>\n",
              "      <td>NaN</td>\n",
              "    </tr>\n",
              "    <tr>\n",
              "      <th>244</th>\n",
              "      <td>NaN</td>\n",
              "      <td>NaN</td>\n",
              "      <td>KEYNOTE CONFERENCE SER</td>\n",
              "      <td>NaN</td>\n",
              "      <td>485,00 €</td>\n",
              "      <td>4.325,01 €</td>\n",
              "    </tr>\n",
              "    <tr>\n",
              "      <th>245</th>\n",
              "      <td>2024</td>\n",
              "      <td>carta</td>\n",
              "      <td>NaN</td>\n",
              "      <td>NaN</td>\n",
              "      <td>NaN</td>\n",
              "      <td>NaN</td>\n",
              "    </tr>\n",
              "  </tbody>\n",
              "</table>\n",
              "<p>246 rows × 6 columns</p>\n",
              "</div>"
            ],
            "text/plain": [
              "       DATA             TIPO             DESCRIZIONE IN ENTRATA IN USCITA  \\\n",
              "0    25 mag  Transazione con                     NaN        NaN       NaN   \n",
              "1       NaN              NaN  TooGoodT cw9t43xst9130        NaN    3,99 €   \n",
              "2      2024            carta                     NaN        NaN       NaN   \n",
              "3    26 mag  Transazione con                     NaN        NaN       NaN   \n",
              "4       NaN              NaN     WWW.SOC.CHIM.IT VBV        NaN   60,00 €   \n",
              "..      ...              ...                     ...        ...       ...   \n",
              "241     NaN              NaN               TIGROS 17        NaN    5,31 €   \n",
              "242    2024            carta                     NaN        NaN       NaN   \n",
              "243  25 mag  Transazione con                     NaN        NaN       NaN   \n",
              "244     NaN              NaN  KEYNOTE CONFERENCE SER        NaN  485,00 €   \n",
              "245    2024            carta                     NaN        NaN       NaN   \n",
              "\n",
              "          SALDO  \n",
              "0           NaN  \n",
              "1    4.321,02 €  \n",
              "2           NaN  \n",
              "3           NaN  \n",
              "4    4.261,02 €  \n",
              "..          ...  \n",
              "241  4.810,01 €  \n",
              "242         NaN  \n",
              "243         NaN  \n",
              "244  4.325,01 €  \n",
              "245         NaN  \n",
              "\n",
              "[246 rows x 6 columns]"
            ]
          },
          "execution_count": 203,
          "metadata": {},
          "output_type": "execute_result"
        }
      ],
      "source": [
        "single_df = pd.concat([df.iloc[:] for df in dfs[:]], axis=0, ignore_index=True)\n",
        "single_df = pd.concat([single_df, dfs_1[0].iloc[:]], axis=0, ignore_index=True)\n",
        "if extract_last_page:\n",
        "    single_df = pd.concat([single_df, dfs_2[0].iloc[:]], axis=0, ignore_index=True)\n",
        "single_df"
      ]
    },
    {
      "cell_type": "markdown",
      "metadata": {},
      "source": [
        "If column labels are present in the df, run following cell"
      ]
    },
    {
      "cell_type": "code",
      "execution_count": 205,
      "metadata": {
        "colab": {
          "base_uri": "https://localhost:8080/",
          "height": 601
        },
        "id": "MLqIxi9PvSEh",
        "outputId": "a6e1115a-be33-4a5f-f14f-80fa4a95bbbf"
      },
      "outputs": [
        {
          "data": {
            "text/html": [
              "<div>\n",
              "<style scoped>\n",
              "    .dataframe tbody tr th:only-of-type {\n",
              "        vertical-align: middle;\n",
              "    }\n",
              "\n",
              "    .dataframe tbody tr th {\n",
              "        vertical-align: top;\n",
              "    }\n",
              "\n",
              "    .dataframe thead th {\n",
              "        text-align: right;\n",
              "    }\n",
              "</style>\n",
              "<table border=\"1\" class=\"dataframe\">\n",
              "  <thead>\n",
              "    <tr style=\"text-align: right;\">\n",
              "      <th></th>\n",
              "      <th>DATA</th>\n",
              "      <th>TIPO</th>\n",
              "      <th>DESCRIZIONE</th>\n",
              "      <th>IN ENTRATA</th>\n",
              "      <th>IN USCITA</th>\n",
              "      <th>SALDO</th>\n",
              "    </tr>\n",
              "  </thead>\n",
              "  <tbody>\n",
              "    <tr>\n",
              "      <th>0</th>\n",
              "      <td>25 mag</td>\n",
              "      <td>Transazione con</td>\n",
              "      <td>NaN</td>\n",
              "      <td>NaN</td>\n",
              "      <td>NaN</td>\n",
              "      <td>NaN</td>\n",
              "    </tr>\n",
              "    <tr>\n",
              "      <th>1</th>\n",
              "      <td>NaN</td>\n",
              "      <td>NaN</td>\n",
              "      <td>TooGoodT cw9t43xst9130</td>\n",
              "      <td>NaN</td>\n",
              "      <td>3,99 €</td>\n",
              "      <td>4.321,02 €</td>\n",
              "    </tr>\n",
              "    <tr>\n",
              "      <th>2</th>\n",
              "      <td>2024</td>\n",
              "      <td>carta</td>\n",
              "      <td>NaN</td>\n",
              "      <td>NaN</td>\n",
              "      <td>NaN</td>\n",
              "      <td>NaN</td>\n",
              "    </tr>\n",
              "    <tr>\n",
              "      <th>3</th>\n",
              "      <td>26 mag</td>\n",
              "      <td>Transazione con</td>\n",
              "      <td>NaN</td>\n",
              "      <td>NaN</td>\n",
              "      <td>NaN</td>\n",
              "      <td>NaN</td>\n",
              "    </tr>\n",
              "    <tr>\n",
              "      <th>4</th>\n",
              "      <td>NaN</td>\n",
              "      <td>NaN</td>\n",
              "      <td>WWW.SOC.CHIM.IT VBV</td>\n",
              "      <td>NaN</td>\n",
              "      <td>60,00 €</td>\n",
              "      <td>4.261,02 €</td>\n",
              "    </tr>\n",
              "    <tr>\n",
              "      <th>...</th>\n",
              "      <td>...</td>\n",
              "      <td>...</td>\n",
              "      <td>...</td>\n",
              "      <td>...</td>\n",
              "      <td>...</td>\n",
              "      <td>...</td>\n",
              "    </tr>\n",
              "    <tr>\n",
              "      <th>241</th>\n",
              "      <td>NaN</td>\n",
              "      <td>NaN</td>\n",
              "      <td>TIGROS 17</td>\n",
              "      <td>NaN</td>\n",
              "      <td>5,31 €</td>\n",
              "      <td>4.810,01 €</td>\n",
              "    </tr>\n",
              "    <tr>\n",
              "      <th>242</th>\n",
              "      <td>2024</td>\n",
              "      <td>carta</td>\n",
              "      <td>NaN</td>\n",
              "      <td>NaN</td>\n",
              "      <td>NaN</td>\n",
              "      <td>NaN</td>\n",
              "    </tr>\n",
              "    <tr>\n",
              "      <th>243</th>\n",
              "      <td>25 mag</td>\n",
              "      <td>Transazione con</td>\n",
              "      <td>NaN</td>\n",
              "      <td>NaN</td>\n",
              "      <td>NaN</td>\n",
              "      <td>NaN</td>\n",
              "    </tr>\n",
              "    <tr>\n",
              "      <th>244</th>\n",
              "      <td>NaN</td>\n",
              "      <td>NaN</td>\n",
              "      <td>KEYNOTE CONFERENCE SER</td>\n",
              "      <td>NaN</td>\n",
              "      <td>485,00 €</td>\n",
              "      <td>4.325,01 €</td>\n",
              "    </tr>\n",
              "    <tr>\n",
              "      <th>245</th>\n",
              "      <td>2024</td>\n",
              "      <td>carta</td>\n",
              "      <td>NaN</td>\n",
              "      <td>NaN</td>\n",
              "      <td>NaN</td>\n",
              "      <td>NaN</td>\n",
              "    </tr>\n",
              "  </tbody>\n",
              "</table>\n",
              "<p>246 rows × 6 columns</p>\n",
              "</div>"
            ],
            "text/plain": [
              "       DATA             TIPO             DESCRIZIONE IN ENTRATA IN USCITA  \\\n",
              "0    25 mag  Transazione con                     NaN        NaN       NaN   \n",
              "1       NaN              NaN  TooGoodT cw9t43xst9130        NaN    3,99 €   \n",
              "2      2024            carta                     NaN        NaN       NaN   \n",
              "3    26 mag  Transazione con                     NaN        NaN       NaN   \n",
              "4       NaN              NaN     WWW.SOC.CHIM.IT VBV        NaN   60,00 €   \n",
              "..      ...              ...                     ...        ...       ...   \n",
              "241     NaN              NaN               TIGROS 17        NaN    5,31 €   \n",
              "242    2024            carta                     NaN        NaN       NaN   \n",
              "243  25 mag  Transazione con                     NaN        NaN       NaN   \n",
              "244     NaN              NaN  KEYNOTE CONFERENCE SER        NaN  485,00 €   \n",
              "245    2024            carta                     NaN        NaN       NaN   \n",
              "\n",
              "          SALDO  \n",
              "0           NaN  \n",
              "1    4.321,02 €  \n",
              "2           NaN  \n",
              "3           NaN  \n",
              "4    4.261,02 €  \n",
              "..          ...  \n",
              "241  4.810,01 €  \n",
              "242         NaN  \n",
              "243         NaN  \n",
              "244  4.325,01 €  \n",
              "245         NaN  \n",
              "\n",
              "[246 rows x 6 columns]"
            ]
          },
          "execution_count": 205,
          "metadata": {},
          "output_type": "execute_result"
        }
      ],
      "source": [
        "# Drop rows if they contain all column names\n",
        "try:\n",
        "    single_df = single_df.drop(single_df[single_df.apply(lambda row: all(item in row.values for item in pandas_options['columns']), axis=1)].index)\n",
        "    # Reset the index\n",
        "    single_df = single_df.reset_index(drop=True)\n",
        "except KeyError:\n",
        "    (\"everything ok\")\n",
        "single_df"
      ]
    },
    {
      "cell_type": "markdown",
      "metadata": {},
      "source": [
        "At this point u should a have a df in which each row is actually divided over 3 consequtive rows. If not, the following cell will return a message and u should inspect your pdf/df with the help of the group subdivision printed inside the df object."
      ]
    },
    {
      "cell_type": "code",
      "execution_count": 212,
      "metadata": {},
      "outputs": [
        {
          "name": "stdout",
          "output_type": "stream",
          "text": [
            "All good\n"
          ]
        }
      ],
      "source": [
        "if single_df.index.stop % 3 == 0:\n",
        "    print(\"All good\")\n",
        "else:\n",
        "    print(\"Error, u should inspect ur pdf/df object\")\n",
        "    single_df['group'] = single_df.index // 3"
      ]
    },
    {
      "cell_type": "code",
      "execution_count": 213,
      "metadata": {
        "colab": {
          "base_uri": "https://localhost:8080/",
          "height": 299
        },
        "id": "F-xA7FPbsA_L",
        "outputId": "73dbc502-b358-490d-885d-8c8e369fa79a"
      },
      "outputs": [
        {
          "data": {
            "text/html": [
              "<div>\n",
              "<style scoped>\n",
              "    .dataframe tbody tr th:only-of-type {\n",
              "        vertical-align: middle;\n",
              "    }\n",
              "\n",
              "    .dataframe tbody tr th {\n",
              "        vertical-align: top;\n",
              "    }\n",
              "\n",
              "    .dataframe thead th {\n",
              "        text-align: right;\n",
              "    }\n",
              "</style>\n",
              "<table border=\"1\" class=\"dataframe\">\n",
              "  <thead>\n",
              "    <tr style=\"text-align: right;\">\n",
              "      <th></th>\n",
              "      <th>DATA</th>\n",
              "      <th>TIPO</th>\n",
              "      <th>DESCRIZIONE</th>\n",
              "      <th>IN ENTRATA</th>\n",
              "      <th>IN USCITA</th>\n",
              "      <th>SALDO</th>\n",
              "    </tr>\n",
              "  </thead>\n",
              "  <tbody>\n",
              "    <tr>\n",
              "      <th>0</th>\n",
              "      <td>25 mag   2024</td>\n",
              "      <td>Transazione con   carta</td>\n",
              "      <td>TooGoodT cw9t43xst9130</td>\n",
              "      <td></td>\n",
              "      <td>3,99 €</td>\n",
              "      <td>4.321,02 €</td>\n",
              "    </tr>\n",
              "    <tr>\n",
              "      <th>1</th>\n",
              "      <td>26 mag   2024</td>\n",
              "      <td>Transazione con   carta</td>\n",
              "      <td>WWW.SOC.CHIM.IT VBV</td>\n",
              "      <td></td>\n",
              "      <td>60,00 €</td>\n",
              "      <td>4.261,02 €</td>\n",
              "    </tr>\n",
              "    <tr>\n",
              "      <th>2</th>\n",
              "      <td>26 mag   2024</td>\n",
              "      <td>Transazione con   carta</td>\n",
              "      <td>TooGoodT 3gx6rfhz6xah0</td>\n",
              "      <td></td>\n",
              "      <td>4,99 €</td>\n",
              "      <td>4.256,03 €</td>\n",
              "    </tr>\n",
              "    <tr>\n",
              "      <th>3</th>\n",
              "      <td>26 mag   2024</td>\n",
              "      <td>Transazione con   carta</td>\n",
              "      <td>ASPIT DIREZ. USCITA -</td>\n",
              "      <td></td>\n",
              "      <td>1,60 €</td>\n",
              "      <td>4.254,43 €</td>\n",
              "    </tr>\n",
              "    <tr>\n",
              "      <th>4</th>\n",
              "      <td>26 mag   2024</td>\n",
              "      <td>Transazione con   carta</td>\n",
              "      <td>ASPIT DIREZ.ENTRATA -</td>\n",
              "      <td></td>\n",
              "      <td>1,60 €</td>\n",
              "      <td>4.252,83 €</td>\n",
              "    </tr>\n",
              "    <tr>\n",
              "      <th>...</th>\n",
              "      <td>...</td>\n",
              "      <td>...</td>\n",
              "      <td>...</td>\n",
              "      <td>...</td>\n",
              "      <td>...</td>\n",
              "      <td>...</td>\n",
              "    </tr>\n",
              "    <tr>\n",
              "      <th>77</th>\n",
              "      <td>21 mag   2024</td>\n",
              "      <td>Transazione con   carta</td>\n",
              "      <td>PAOLO &amp; VALE S.R.L.S.</td>\n",
              "      <td></td>\n",
              "      <td>104,80 €</td>\n",
              "      <td>4.891,01 €</td>\n",
              "    </tr>\n",
              "    <tr>\n",
              "      <th>78</th>\n",
              "      <td>21 mag   2024</td>\n",
              "      <td>Transazione con   carta</td>\n",
              "      <td>AUTOGRILL 0736</td>\n",
              "      <td></td>\n",
              "      <td>9,40 €</td>\n",
              "      <td>4.881,61 €</td>\n",
              "    </tr>\n",
              "    <tr>\n",
              "      <th>79</th>\n",
              "      <td>22 mag   2024</td>\n",
              "      <td>Transazione con   carta</td>\n",
              "      <td>PV ENI - 03970</td>\n",
              "      <td></td>\n",
              "      <td>66,29 €</td>\n",
              "      <td>4.815,32 €</td>\n",
              "    </tr>\n",
              "    <tr>\n",
              "      <th>80</th>\n",
              "      <td>24 mag   2024</td>\n",
              "      <td>Transazione con   carta</td>\n",
              "      <td>TIGROS 17</td>\n",
              "      <td></td>\n",
              "      <td>5,31 €</td>\n",
              "      <td>4.810,01 €</td>\n",
              "    </tr>\n",
              "    <tr>\n",
              "      <th>81</th>\n",
              "      <td>25 mag   2024</td>\n",
              "      <td>Transazione con   carta</td>\n",
              "      <td>KEYNOTE CONFERENCE SER</td>\n",
              "      <td></td>\n",
              "      <td>485,00 €</td>\n",
              "      <td>4.325,01 €</td>\n",
              "    </tr>\n",
              "  </tbody>\n",
              "</table>\n",
              "<p>82 rows × 6 columns</p>\n",
              "</div>"
            ],
            "text/plain": [
              "             DATA                     TIPO                 DESCRIZIONE  \\\n",
              "0   25 mag   2024  Transazione con   carta    TooGoodT cw9t43xst9130     \n",
              "1   26 mag   2024  Transazione con   carta       WWW.SOC.CHIM.IT VBV     \n",
              "2   26 mag   2024  Transazione con   carta    TooGoodT 3gx6rfhz6xah0     \n",
              "3   26 mag   2024  Transazione con   carta     ASPIT DIREZ. USCITA -     \n",
              "4   26 mag   2024  Transazione con   carta     ASPIT DIREZ.ENTRATA -     \n",
              "..            ...                      ...                         ...   \n",
              "77  21 mag   2024  Transazione con   carta     PAOLO & VALE S.R.L.S.     \n",
              "78  21 mag   2024  Transazione con   carta            AUTOGRILL 0736     \n",
              "79  22 mag   2024  Transazione con   carta            PV ENI - 03970     \n",
              "80  24 mag   2024  Transazione con   carta                 TIGROS 17     \n",
              "81  25 mag   2024  Transazione con   carta    KEYNOTE CONFERENCE SER     \n",
              "\n",
              "   IN ENTRATA     IN USCITA           SALDO  \n",
              "0                  3,99 €      4.321,02 €    \n",
              "1                 60,00 €      4.261,02 €    \n",
              "2                  4,99 €      4.256,03 €    \n",
              "3                  1,60 €      4.254,43 €    \n",
              "4                  1,60 €      4.252,83 €    \n",
              "..        ...           ...             ...  \n",
              "77               104,80 €      4.891,01 €    \n",
              "78                 9,40 €      4.881,61 €    \n",
              "79                66,29 €      4.815,32 €    \n",
              "80                 5,31 €      4.810,01 €    \n",
              "81               485,00 €      4.325,01 €    \n",
              "\n",
              "[82 rows x 6 columns]"
            ]
          },
          "execution_count": 213,
          "metadata": {},
          "output_type": "execute_result"
        }
      ],
      "source": [
        "# Group the DataFrame by every 3 rows as tabula didn't recognize multiline text in the cells. U should inspect this by urself\n",
        "grouped = single_df.groupby(single_df.index // 3)\n",
        "\n",
        "# Aggregate the text within each group\n",
        "result = grouped.agg(lambda x: ' '.join(x.fillna(' ')))\n",
        "\n",
        "# Reset the index\n",
        "result = result.reset_index(drop=True)\n",
        "\n",
        "result"
      ]
    },
    {
      "cell_type": "markdown",
      "metadata": {
        "id": "s8Qvm-eRC9g4"
      },
      "source": [
        "# Export data to CSV"
      ]
    },
    {
      "cell_type": "code",
      "execution_count": 214,
      "metadata": {
        "id": "fiyY17wIyhCk"
      },
      "outputs": [],
      "source": [
        "result.to_csv(str(pdf_folder) + \"/\" + pdf_path.stem + \"output.csv\", index=False)"
      ]
    }
  ],
  "metadata": {
    "colab": {
      "collapsed_sections": [
        "Oja4VzHmBiLJ"
      ],
      "provenance": []
    },
    "kernelspec": {
      "display_name": "docpdf_env",
      "language": "python",
      "name": "python3"
    },
    "language_info": {
      "codemirror_mode": {
        "name": "ipython",
        "version": 3
      },
      "file_extension": ".py",
      "mimetype": "text/x-python",
      "name": "python",
      "nbconvert_exporter": "python",
      "pygments_lexer": "ipython3",
      "version": "3.12.5"
    }
  },
  "nbformat": 4,
  "nbformat_minor": 0
}
